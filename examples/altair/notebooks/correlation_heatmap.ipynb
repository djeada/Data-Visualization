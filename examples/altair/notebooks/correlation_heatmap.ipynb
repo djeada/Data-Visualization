{
 "cells": [
  {
   "cell_type": "code",
   "execution_count": 1,
   "id": "b38aa7a8",
   "metadata": {},
   "outputs": [
    {
     "data": {
      "text/html": [
       "\n",
       "<style>\n",
       "  #altair-viz-5aae429718eb4a9a95d2b690486f99d0.vega-embed {\n",
       "    width: 100%;\n",
       "    display: flex;\n",
       "  }\n",
       "\n",
       "  #altair-viz-5aae429718eb4a9a95d2b690486f99d0.vega-embed details,\n",
       "  #altair-viz-5aae429718eb4a9a95d2b690486f99d0.vega-embed details summary {\n",
       "    position: relative;\n",
       "  }\n",
       "</style>\n",
       "<div id=\"altair-viz-5aae429718eb4a9a95d2b690486f99d0\"></div>\n",
       "<script type=\"text/javascript\">\n",
       "  var VEGA_DEBUG = (typeof VEGA_DEBUG == \"undefined\") ? {} : VEGA_DEBUG;\n",
       "  (function(spec, embedOpt){\n",
       "    let outputDiv = document.currentScript.previousElementSibling;\n",
       "    if (outputDiv.id !== \"altair-viz-5aae429718eb4a9a95d2b690486f99d0\") {\n",
       "      outputDiv = document.getElementById(\"altair-viz-5aae429718eb4a9a95d2b690486f99d0\");\n",
       "    }\n",
       "    const paths = {\n",
       "      \"vega\": \"https://cdn.jsdelivr.net/npm/vega@5?noext\",\n",
       "      \"vega-lib\": \"https://cdn.jsdelivr.net/npm/vega-lib?noext\",\n",
       "      \"vega-lite\": \"https://cdn.jsdelivr.net/npm/vega-lite@5.8.0?noext\",\n",
       "      \"vega-embed\": \"https://cdn.jsdelivr.net/npm/vega-embed@6?noext\",\n",
       "    };\n",
       "\n",
       "    function maybeLoadScript(lib, version) {\n",
       "      var key = `${lib.replace(\"-\", \"\")}_version`;\n",
       "      return (VEGA_DEBUG[key] == version) ?\n",
       "        Promise.resolve(paths[lib]) :\n",
       "        new Promise(function(resolve, reject) {\n",
       "          var s = document.createElement('script');\n",
       "          document.getElementsByTagName(\"head\")[0].appendChild(s);\n",
       "          s.async = true;\n",
       "          s.onload = () => {\n",
       "            VEGA_DEBUG[key] = version;\n",
       "            return resolve(paths[lib]);\n",
       "          };\n",
       "          s.onerror = () => reject(`Error loading script: ${paths[lib]}`);\n",
       "          s.src = paths[lib];\n",
       "        });\n",
       "    }\n",
       "\n",
       "    function showError(err) {\n",
       "      outputDiv.innerHTML = `<div class=\"error\" style=\"color:red;\">${err}</div>`;\n",
       "      throw err;\n",
       "    }\n",
       "\n",
       "    function displayChart(vegaEmbed) {\n",
       "      vegaEmbed(outputDiv, spec, embedOpt)\n",
       "        .catch(err => showError(`Javascript Error: ${err.message}<br>This usually means there's a typo in your chart specification. See the javascript console for the full traceback.`));\n",
       "    }\n",
       "\n",
       "    if(typeof define === \"function\" && define.amd) {\n",
       "      requirejs.config({paths});\n",
       "      require([\"vega-embed\"], displayChart, err => showError(`Error loading script: ${err.message}`));\n",
       "    } else {\n",
       "      maybeLoadScript(\"vega\", \"5\")\n",
       "        .then(() => maybeLoadScript(\"vega-lite\", \"5.8.0\"))\n",
       "        .then(() => maybeLoadScript(\"vega-embed\", \"6\"))\n",
       "        .catch(showError)\n",
       "        .then(() => displayChart(vegaEmbed));\n",
       "    }\n",
       "  })({\"config\": {\"view\": {\"continuousWidth\": 300, \"continuousHeight\": 300}}, \"data\": {\"name\": \"data-506e9c50bfe75be80ca740a56f01ee5b\"}, \"mark\": {\"type\": \"rect\"}, \"encoding\": {\"color\": {\"field\": \"value\", \"type\": \"quantitative\"}, \"x\": {\"field\": \"index\", \"type\": \"ordinal\"}, \"y\": {\"field\": \"variable\", \"type\": \"ordinal\"}}, \"height\": 400, \"title\": \"Correlation Heatmap\", \"width\": 400, \"$schema\": \"https://vega.github.io/schema/vega-lite/v5.8.0.json\", \"datasets\": {\"data-506e9c50bfe75be80ca740a56f01ee5b\": [{\"index\": \"A\", \"variable\": \"A\", \"value\": 1.0}, {\"index\": \"B\", \"variable\": \"A\", \"value\": -0.570298812080996}, {\"index\": \"C\", \"variable\": \"A\", \"value\": 0.812619431571581}, {\"index\": \"D\", \"variable\": \"A\", \"value\": -0.2432907482625194}, {\"index\": \"A\", \"variable\": \"B\", \"value\": -0.570298812080996}, {\"index\": \"B\", \"variable\": \"B\", \"value\": 1.0}, {\"index\": \"C\", \"variable\": \"B\", \"value\": -0.3964870661507183}, {\"index\": \"D\", \"variable\": \"B\", \"value\": 0.7015862713065164}, {\"index\": \"A\", \"variable\": \"C\", \"value\": 0.812619431571581}, {\"index\": \"B\", \"variable\": \"C\", \"value\": -0.3964870661507183}, {\"index\": \"C\", \"variable\": \"C\", \"value\": 1.0}, {\"index\": \"D\", \"variable\": \"C\", \"value\": 0.22750632602145857}, {\"index\": \"A\", \"variable\": \"D\", \"value\": -0.2432907482625194}, {\"index\": \"B\", \"variable\": \"D\", \"value\": 0.7015862713065164}, {\"index\": \"C\", \"variable\": \"D\", \"value\": 0.22750632602145857}, {\"index\": \"D\", \"variable\": \"D\", \"value\": 1.0}]}}, {\"mode\": \"vega-lite\"});\n",
       "</script>"
      ],
      "text/plain": [
       "alt.Chart(...)"
      ]
     },
     "execution_count": 1,
     "metadata": {},
     "output_type": "execute_result"
    }
   ],
   "source": [
    "import altair as alt\n",
    "import pandas as pd\n",
    "import numpy as np\n",
    "\n",
    "# Create a DataFrame\n",
    "np.random.seed(0)\n",
    "data = np.random.randn(5, 4)\n",
    "df = pd.DataFrame(data, columns=list(\"ABCD\"))\n",
    "\n",
    "# Calculate correlation\n",
    "correlation_df = df.corr().reset_index().melt(\"index\")\n",
    "\n",
    "# Plot heatmap\n",
    "alt.Chart(correlation_df).mark_rect().encode(\n",
    "    x=\"index:O\", y=\"variable:O\", color=\"value:Q\"\n",
    ").properties(\n",
    "    title=\"Correlation Heatmap\",\n",
    "    height=400,\n",
    "    width=400,\n",
    ")"
   ]
  }
 ],
 "metadata": {
  "kernelspec": {
   "display_name": "Python 3 (ipykernel)",
   "language": "python",
   "name": "python3"
  },
  "language_info": {
   "codemirror_mode": {
    "name": "ipython",
    "version": 3
   },
   "file_extension": ".py",
   "mimetype": "text/x-python",
   "name": "python",
   "nbconvert_exporter": "python",
   "pygments_lexer": "ipython3",
   "version": "3.10.6"
  }
 },
 "nbformat": 4,
 "nbformat_minor": 5
}
