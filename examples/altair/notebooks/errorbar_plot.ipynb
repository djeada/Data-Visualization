{
 "cells": [
  {
   "cell_type": "code",
   "execution_count": 1,
   "id": "2c17a492",
   "metadata": {},
   "outputs": [
    {
     "data": {
      "text/html": [
       "\n",
       "<style>\n",
       "  #altair-viz-b183da95d8874a79b2a0abe9c8a50c8a.vega-embed {\n",
       "    width: 100%;\n",
       "    display: flex;\n",
       "  }\n",
       "\n",
       "  #altair-viz-b183da95d8874a79b2a0abe9c8a50c8a.vega-embed details,\n",
       "  #altair-viz-b183da95d8874a79b2a0abe9c8a50c8a.vega-embed details summary {\n",
       "    position: relative;\n",
       "  }\n",
       "</style>\n",
       "<div id=\"altair-viz-b183da95d8874a79b2a0abe9c8a50c8a\"></div>\n",
       "<script type=\"text/javascript\">\n",
       "  var VEGA_DEBUG = (typeof VEGA_DEBUG == \"undefined\") ? {} : VEGA_DEBUG;\n",
       "  (function(spec, embedOpt){\n",
       "    let outputDiv = document.currentScript.previousElementSibling;\n",
       "    if (outputDiv.id !== \"altair-viz-b183da95d8874a79b2a0abe9c8a50c8a\") {\n",
       "      outputDiv = document.getElementById(\"altair-viz-b183da95d8874a79b2a0abe9c8a50c8a\");\n",
       "    }\n",
       "    const paths = {\n",
       "      \"vega\": \"https://cdn.jsdelivr.net/npm/vega@5?noext\",\n",
       "      \"vega-lib\": \"https://cdn.jsdelivr.net/npm/vega-lib?noext\",\n",
       "      \"vega-lite\": \"https://cdn.jsdelivr.net/npm/vega-lite@5.8.0?noext\",\n",
       "      \"vega-embed\": \"https://cdn.jsdelivr.net/npm/vega-embed@6?noext\",\n",
       "    };\n",
       "\n",
       "    function maybeLoadScript(lib, version) {\n",
       "      var key = `${lib.replace(\"-\", \"\")}_version`;\n",
       "      return (VEGA_DEBUG[key] == version) ?\n",
       "        Promise.resolve(paths[lib]) :\n",
       "        new Promise(function(resolve, reject) {\n",
       "          var s = document.createElement('script');\n",
       "          document.getElementsByTagName(\"head\")[0].appendChild(s);\n",
       "          s.async = true;\n",
       "          s.onload = () => {\n",
       "            VEGA_DEBUG[key] = version;\n",
       "            return resolve(paths[lib]);\n",
       "          };\n",
       "          s.onerror = () => reject(`Error loading script: ${paths[lib]}`);\n",
       "          s.src = paths[lib];\n",
       "        });\n",
       "    }\n",
       "\n",
       "    function showError(err) {\n",
       "      outputDiv.innerHTML = `<div class=\"error\" style=\"color:red;\">${err}</div>`;\n",
       "      throw err;\n",
       "    }\n",
       "\n",
       "    function displayChart(vegaEmbed) {\n",
       "      vegaEmbed(outputDiv, spec, embedOpt)\n",
       "        .catch(err => showError(`Javascript Error: ${err.message}<br>This usually means there's a typo in your chart specification. See the javascript console for the full traceback.`));\n",
       "    }\n",
       "\n",
       "    if(typeof define === \"function\" && define.amd) {\n",
       "      requirejs.config({paths});\n",
       "      require([\"vega-embed\"], displayChart, err => showError(`Error loading script: ${err.message}`));\n",
       "    } else {\n",
       "      maybeLoadScript(\"vega\", \"5\")\n",
       "        .then(() => maybeLoadScript(\"vega-lite\", \"5.8.0\"))\n",
       "        .then(() => maybeLoadScript(\"vega-embed\", \"6\"))\n",
       "        .catch(showError)\n",
       "        .then(() => displayChart(vegaEmbed));\n",
       "    }\n",
       "  })({\"config\": {\"view\": {\"continuousWidth\": 300, \"continuousHeight\": 300}}, \"layer\": [{\"mark\": {\"type\": \"line\"}, \"encoding\": {\"x\": {\"field\": \"x\", \"type\": \"quantitative\"}, \"y\": {\"field\": \"y\", \"type\": \"quantitative\"}}}, {\"mark\": {\"type\": \"rule\"}, \"encoding\": {\"x\": {\"field\": \"x\", \"type\": \"quantitative\"}, \"y\": {\"field\": \"y_min\", \"type\": \"quantitative\"}, \"y2\": {\"field\": \"y_max\"}}}], \"data\": {\"name\": \"data-44c17db8bd3dd4d8e1856604c0aa65c4\"}, \"$schema\": \"https://vega.github.io/schema/vega-lite/v5.8.0.json\", \"datasets\": {\"data-44c17db8bd3dd4d8e1856604c0aa65c4\": [{\"x\": 0.0, \"y\": 0.3528104691935328, \"y_min\": 0.1528104691935328, \"y_max\": 0.5528104691935328}, {\"x\": 0.3448275862068966, \"y\": 0.41806585950695496, \"y_min\": 0.21806585950695495, \"y_max\": 0.618065859506955}, {\"x\": 0.6896551724137931, \"y\": 0.832018794302598, \"y_min\": 0.6320187943025979, \"y_max\": 1.032018794302598}, {\"x\": 1.0344827586206897, \"y\": 1.3077768161643148, \"y_min\": 1.107776816164315, \"y_max\": 1.5077768161643148}, {\"x\": 1.3793103448275863, \"y\": 1.3552341081358468, \"y_min\": 1.1552341081358468, \"y_max\": 1.5552341081358467}, {\"x\": 1.7241379310344829, \"y\": 0.7928106193316234, \"y_min\": 0.5928106193316234, \"y_max\": 0.9928106193316235}, {\"x\": 2.0689655172413794, \"y\": 1.0684765109933039, \"y_min\": 0.8684765109933039, \"y_max\": 1.2684765109933038}, {\"x\": 2.413793103448276, \"y\": 0.6349568612752949, \"y_min\": 0.4349568612752949, \"y_max\": 0.8349568612752949}, {\"x\": 2.7586206896551726, \"y\": 0.3530350147064133, \"y_min\": 0.15303501470641329, \"y_max\": 0.5530350147064134}, {\"x\": 3.1034482758620694, \"y\": 0.1202548288176994, \"y_min\": -0.07974517118230061, \"y_max\": 0.3202548288176994}, {\"x\": 3.4482758620689657, \"y\": -0.2730895581035274, \"y_min\": -0.47308955810352743, \"y_max\": -0.07308955810352741}, {\"x\": 3.793103448275862, \"y\": -0.3155337323893928, \"y_min\": -0.5155337323893928, \"y_max\": -0.1155337323893928}, {\"x\": 4.137931034482759, \"y\": -0.687279421966934, \"y_min\": -0.887279421966934, \"y_max\": -0.487279421966934}, {\"x\": 4.482758620689656, \"y\": -0.9494155948682707, \"y_min\": -1.1494155948682707, \"y_max\": -0.7494155948682706}, {\"x\": 4.827586206896552, \"y\": -0.9045994873554952, \"y_min\": -1.1045994873554952, \"y_max\": -0.7045994873554953}, {\"x\": 5.172413793103448, \"y\": -0.8293066162153147, \"y_min\": -1.0293066162153146, \"y_max\": -0.6293066162153147}, {\"x\": 5.517241379310345, \"y\": -0.39440180821717646, \"y_min\": -0.5944018082171765, \"y_max\": -0.19440180821717645}, {\"x\": 5.862068965517242, \"y\": -0.4498111707471853, \"y_min\": -0.6498111707471853, \"y_max\": -0.24981117074718528}, {\"x\": 6.206896551724139, \"y\": -0.013601236891256016, \"y_min\": -0.21360123689125604, \"y_max\": 0.18639876310874398}, {\"x\": 6.551724137931035, \"y\": 0.09450377219533185, \"y_min\": -0.10549622780466816, \"y_max\": 0.29450377219533186}, {\"x\": 6.8965517241379315, \"y\": 0.06502552262656036, \"y_min\": -0.13497447737343965, \"y_max\": 0.2650255226265604}, {\"x\": 7.241379310344828, \"y\": 0.9488781767252955, \"y_min\": 0.7488781767252954, \"y_max\": 1.1488781767252956}, {\"x\": 7.586206896551724, \"y\": 1.1372492969359116, \"y_min\": 0.9372492969359116, \"y_max\": 1.3372492969359115}, {\"x\": 7.931034482758621, \"y\": 0.848599893610583, \"y_min\": 0.648599893610583, \"y_max\": 1.048599893610583}, {\"x\": 8.275862068965518, \"y\": 1.3662714841807275, \"y_min\": 1.1662714841807276, \"y_max\": 1.5662714841807275}, {\"x\": 8.620689655172415, \"y\": 0.4293253029608387, \"y_min\": 0.2293253029608387, \"y_max\": 0.6293253029608388}, {\"x\": 8.965517241379311, \"y\": 0.4524372549324823, \"y_min\": 0.2524372549324823, \"y_max\": 0.6524372549324824}, {\"x\": 9.310344827586208, \"y\": 0.07674677744318317, \"y_min\": -0.12325322255681684, \"y_max\": 0.2767467774431832}, {\"x\": 9.655172413793103, \"y\": 0.07819427142872956, \"y_min\": -0.12180572857127045, \"y_max\": 0.27819427142872954}, {\"x\": 10.0, \"y\": -0.2501493569093128, \"y_min\": -0.4501493569093128, \"y_max\": -0.05014935690931277}]}}, {\"mode\": \"vega-lite\"});\n",
       "</script>"
      ],
      "text/plain": [
       "alt.LayerChart(...)"
      ]
     },
     "metadata": {},
     "output_type": "display_data"
    }
   ],
   "source": [
    "import altair as alt\n",
    "import pandas as pd\n",
    "import numpy as np\n",
    "\n",
    "# Create some data\n",
    "n = 30\n",
    "error = 0.2\n",
    "np.random.seed(0)\n",
    "x = np.linspace(0, 10, n)\n",
    "y = np.sin(x) + np.random.randn(n) * error\n",
    "\n",
    "# Create a DataFrame\n",
    "df = pd.DataFrame({\"x\": x, \"y\": y, \"y_min\": y - error, \"y_max\": y + error})\n",
    "\n",
    "# Base chart\n",
    "base = alt.Chart(df).mark_line().encode(x=\"x\", y=\"y\")\n",
    "\n",
    "# Error bars\n",
    "error_bars = alt.Chart(df).mark_rule().encode(x=\"x\", y=\"y_min\", y2=\"y_max\")\n",
    "\n",
    "# Show the chart\n",
    "(base + error_bars).display()"
   ]
  }
 ],
 "metadata": {
  "kernelspec": {
   "display_name": "Python 3 (ipykernel)",
   "language": "python",
   "name": "python3"
  },
  "language_info": {
   "codemirror_mode": {
    "name": "ipython",
    "version": 3
   },
   "file_extension": ".py",
   "mimetype": "text/x-python",
   "name": "python",
   "nbconvert_exporter": "python",
   "pygments_lexer": "ipython3",
   "version": "3.10.6"
  }
 },
 "nbformat": 4,
 "nbformat_minor": 5
}
