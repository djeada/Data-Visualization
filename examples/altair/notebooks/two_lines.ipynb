{
 "cells": [
  {
   "cell_type": "code",
   "execution_count": 1,
   "id": "bf8828fa",
   "metadata": {},
   "outputs": [
    {
     "data": {
      "text/html": [
       "\n",
       "<style>\n",
       "  #altair-viz-0e546a26089e4cf3b595e757d1b6ddb6.vega-embed {\n",
       "    width: 100%;\n",
       "    display: flex;\n",
       "  }\n",
       "\n",
       "  #altair-viz-0e546a26089e4cf3b595e757d1b6ddb6.vega-embed details,\n",
       "  #altair-viz-0e546a26089e4cf3b595e757d1b6ddb6.vega-embed details summary {\n",
       "    position: relative;\n",
       "  }\n",
       "</style>\n",
       "<div id=\"altair-viz-0e546a26089e4cf3b595e757d1b6ddb6\"></div>\n",
       "<script type=\"text/javascript\">\n",
       "  var VEGA_DEBUG = (typeof VEGA_DEBUG == \"undefined\") ? {} : VEGA_DEBUG;\n",
       "  (function(spec, embedOpt){\n",
       "    let outputDiv = document.currentScript.previousElementSibling;\n",
       "    if (outputDiv.id !== \"altair-viz-0e546a26089e4cf3b595e757d1b6ddb6\") {\n",
       "      outputDiv = document.getElementById(\"altair-viz-0e546a26089e4cf3b595e757d1b6ddb6\");\n",
       "    }\n",
       "    const paths = {\n",
       "      \"vega\": \"https://cdn.jsdelivr.net/npm/vega@5?noext\",\n",
       "      \"vega-lib\": \"https://cdn.jsdelivr.net/npm/vega-lib?noext\",\n",
       "      \"vega-lite\": \"https://cdn.jsdelivr.net/npm/vega-lite@5.8.0?noext\",\n",
       "      \"vega-embed\": \"https://cdn.jsdelivr.net/npm/vega-embed@6?noext\",\n",
       "    };\n",
       "\n",
       "    function maybeLoadScript(lib, version) {\n",
       "      var key = `${lib.replace(\"-\", \"\")}_version`;\n",
       "      return (VEGA_DEBUG[key] == version) ?\n",
       "        Promise.resolve(paths[lib]) :\n",
       "        new Promise(function(resolve, reject) {\n",
       "          var s = document.createElement('script');\n",
       "          document.getElementsByTagName(\"head\")[0].appendChild(s);\n",
       "          s.async = true;\n",
       "          s.onload = () => {\n",
       "            VEGA_DEBUG[key] = version;\n",
       "            return resolve(paths[lib]);\n",
       "          };\n",
       "          s.onerror = () => reject(`Error loading script: ${paths[lib]}`);\n",
       "          s.src = paths[lib];\n",
       "        });\n",
       "    }\n",
       "\n",
       "    function showError(err) {\n",
       "      outputDiv.innerHTML = `<div class=\"error\" style=\"color:red;\">${err}</div>`;\n",
       "      throw err;\n",
       "    }\n",
       "\n",
       "    function displayChart(vegaEmbed) {\n",
       "      vegaEmbed(outputDiv, spec, embedOpt)\n",
       "        .catch(err => showError(`Javascript Error: ${err.message}<br>This usually means there's a typo in your chart specification. See the javascript console for the full traceback.`));\n",
       "    }\n",
       "\n",
       "    if(typeof define === \"function\" && define.amd) {\n",
       "      requirejs.config({paths});\n",
       "      require([\"vega-embed\"], displayChart, err => showError(`Error loading script: ${err.message}`));\n",
       "    } else {\n",
       "      maybeLoadScript(\"vega\", \"5\")\n",
       "        .then(() => maybeLoadScript(\"vega-lite\", \"5.8.0\"))\n",
       "        .then(() => maybeLoadScript(\"vega-embed\", \"6\"))\n",
       "        .catch(showError)\n",
       "        .then(() => displayChart(vegaEmbed));\n",
       "    }\n",
       "  })({\"config\": {\"view\": {\"continuousWidth\": 300, \"continuousHeight\": 300}}, \"data\": {\"name\": \"data-0c52ccf7a025af45fc95df0b406ea228\"}, \"mark\": {\"type\": \"line\"}, \"encoding\": {\"color\": {\"field\": \"Series\", \"type\": \"nominal\"}, \"x\": {\"field\": \"X\", \"type\": \"quantitative\"}, \"y\": {\"field\": \"Y\", \"type\": \"quantitative\"}}, \"$schema\": \"https://vega.github.io/schema/vega-lite/v5.8.0.json\", \"datasets\": {\"data-0c52ccf7a025af45fc95df0b406ea228\": [{\"X\": 1, \"Series\": \"Y1\", \"Y\": 1}, {\"X\": 2, \"Series\": \"Y1\", \"Y\": 2}, {\"X\": 3, \"Series\": \"Y1\", \"Y\": 3}, {\"X\": 4, \"Series\": \"Y1\", \"Y\": 4}, {\"X\": 5, \"Series\": \"Y1\", \"Y\": 5}, {\"X\": 6, \"Series\": \"Y1\", \"Y\": 6}, {\"X\": 7, \"Series\": \"Y1\", \"Y\": 7}, {\"X\": 8, \"Series\": \"Y1\", \"Y\": 8}, {\"X\": 9, \"Series\": \"Y1\", \"Y\": 9}, {\"X\": 10, \"Series\": \"Y1\", \"Y\": 10}, {\"X\": 1, \"Series\": \"Y2\", \"Y\": 1}, {\"X\": 2, \"Series\": \"Y2\", \"Y\": 4}, {\"X\": 3, \"Series\": \"Y2\", \"Y\": 9}, {\"X\": 4, \"Series\": \"Y2\", \"Y\": 16}, {\"X\": 5, \"Series\": \"Y2\", \"Y\": 25}, {\"X\": 6, \"Series\": \"Y2\", \"Y\": 36}, {\"X\": 7, \"Series\": \"Y2\", \"Y\": 49}, {\"X\": 8, \"Series\": \"Y2\", \"Y\": 64}, {\"X\": 9, \"Series\": \"Y2\", \"Y\": 81}, {\"X\": 10, \"Series\": \"Y2\", \"Y\": 100}]}}, {\"mode\": \"vega-lite\"});\n",
       "</script>"
      ],
      "text/plain": [
       "alt.Chart(...)"
      ]
     },
     "execution_count": 1,
     "metadata": {},
     "output_type": "execute_result"
    }
   ],
   "source": [
    "import altair as alt\n",
    "import pandas as pd\n",
    "\n",
    "# Create a DataFrame\n",
    "df = pd.DataFrame(\n",
    "    {\n",
    "        \"X\": [1, 2, 3, 4, 5, 6, 7, 8, 9, 10],\n",
    "        \"Y1\": [1, 2, 3, 4, 5, 6, 7, 8, 9, 10],\n",
    "        \"Y2\": [1, 4, 9, 16, 25, 36, 49, 64, 81, 100],\n",
    "    }\n",
    ")\n",
    "\n",
    "# Melt DataFrame\n",
    "df = df.melt(\"X\", var_name=\"Series\", value_name=\"Y\")\n",
    "\n",
    "# Make the line chart\n",
    "chart = alt.Chart(df).mark_line().encode(x=\"X:Q\", y=\"Y:Q\", color=\"Series:N\")\n",
    "\n",
    "chart"
   ]
  }
 ],
 "metadata": {
  "kernelspec": {
   "display_name": "Python 3 (ipykernel)",
   "language": "python",
   "name": "python3"
  },
  "language_info": {
   "codemirror_mode": {
    "name": "ipython",
    "version": 3
   },
   "file_extension": ".py",
   "mimetype": "text/x-python",
   "name": "python",
   "nbconvert_exporter": "python",
   "pygments_lexer": "ipython3",
   "version": "3.10.6"
  }
 },
 "nbformat": 4,
 "nbformat_minor": 5
}
