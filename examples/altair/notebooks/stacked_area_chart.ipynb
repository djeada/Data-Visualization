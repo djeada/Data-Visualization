{
 "cells": [
  {
   "cell_type": "code",
   "execution_count": 1,
   "id": "2d4e30e7",
   "metadata": {},
   "outputs": [
    {
     "data": {
      "text/html": [
       "\n",
       "<style>\n",
       "  #altair-viz-20e308451d974a288f4de630096d93e3.vega-embed {\n",
       "    width: 100%;\n",
       "    display: flex;\n",
       "  }\n",
       "\n",
       "  #altair-viz-20e308451d974a288f4de630096d93e3.vega-embed details,\n",
       "  #altair-viz-20e308451d974a288f4de630096d93e3.vega-embed details summary {\n",
       "    position: relative;\n",
       "  }\n",
       "</style>\n",
       "<div id=\"altair-viz-20e308451d974a288f4de630096d93e3\"></div>\n",
       "<script type=\"text/javascript\">\n",
       "  var VEGA_DEBUG = (typeof VEGA_DEBUG == \"undefined\") ? {} : VEGA_DEBUG;\n",
       "  (function(spec, embedOpt){\n",
       "    let outputDiv = document.currentScript.previousElementSibling;\n",
       "    if (outputDiv.id !== \"altair-viz-20e308451d974a288f4de630096d93e3\") {\n",
       "      outputDiv = document.getElementById(\"altair-viz-20e308451d974a288f4de630096d93e3\");\n",
       "    }\n",
       "    const paths = {\n",
       "      \"vega\": \"https://cdn.jsdelivr.net/npm/vega@5?noext\",\n",
       "      \"vega-lib\": \"https://cdn.jsdelivr.net/npm/vega-lib?noext\",\n",
       "      \"vega-lite\": \"https://cdn.jsdelivr.net/npm/vega-lite@5.8.0?noext\",\n",
       "      \"vega-embed\": \"https://cdn.jsdelivr.net/npm/vega-embed@6?noext\",\n",
       "    };\n",
       "\n",
       "    function maybeLoadScript(lib, version) {\n",
       "      var key = `${lib.replace(\"-\", \"\")}_version`;\n",
       "      return (VEGA_DEBUG[key] == version) ?\n",
       "        Promise.resolve(paths[lib]) :\n",
       "        new Promise(function(resolve, reject) {\n",
       "          var s = document.createElement('script');\n",
       "          document.getElementsByTagName(\"head\")[0].appendChild(s);\n",
       "          s.async = true;\n",
       "          s.onload = () => {\n",
       "            VEGA_DEBUG[key] = version;\n",
       "            return resolve(paths[lib]);\n",
       "          };\n",
       "          s.onerror = () => reject(`Error loading script: ${paths[lib]}`);\n",
       "          s.src = paths[lib];\n",
       "        });\n",
       "    }\n",
       "\n",
       "    function showError(err) {\n",
       "      outputDiv.innerHTML = `<div class=\"error\" style=\"color:red;\">${err}</div>`;\n",
       "      throw err;\n",
       "    }\n",
       "\n",
       "    function displayChart(vegaEmbed) {\n",
       "      vegaEmbed(outputDiv, spec, embedOpt)\n",
       "        .catch(err => showError(`Javascript Error: ${err.message}<br>This usually means there's a typo in your chart specification. See the javascript console for the full traceback.`));\n",
       "    }\n",
       "\n",
       "    if(typeof define === \"function\" && define.amd) {\n",
       "      requirejs.config({paths});\n",
       "      require([\"vega-embed\"], displayChart, err => showError(`Error loading script: ${err.message}`));\n",
       "    } else {\n",
       "      maybeLoadScript(\"vega\", \"5\")\n",
       "        .then(() => maybeLoadScript(\"vega-lite\", \"5.8.0\"))\n",
       "        .then(() => maybeLoadScript(\"vega-embed\", \"6\"))\n",
       "        .catch(showError)\n",
       "        .then(() => displayChart(vegaEmbed));\n",
       "    }\n",
       "  })({\"config\": {\"view\": {\"continuousWidth\": 300, \"continuousHeight\": 300}, \"axis\": {\"titleX\": -15, \"titleY\": -15}, \"title\": {\"anchor\": \"start\", \"fontSize\": 14, \"offset\": 10}}, \"data\": {\"name\": \"data-a5a493f61d39df0443e66d6261b8e5d4\"}, \"mark\": {\"type\": \"area\"}, \"encoding\": {\"color\": {\"field\": \"Category\", \"type\": \"nominal\"}, \"x\": {\"field\": \"index\", \"type\": \"ordinal\"}, \"y\": {\"field\": \"Values\", \"stack\": \"zero\", \"type\": \"quantitative\"}}, \"height\": 400, \"title\": \"Stacked Area Chart\", \"width\": 400, \"$schema\": \"https://vega.github.io/schema/vega-lite/v5.8.0.json\", \"datasets\": {\"data-a5a493f61d39df0443e66d6261b8e5d4\": [{\"index\": 1, \"Category\": \"A\", \"Values\": 1}, {\"index\": 2, \"Category\": \"A\", \"Values\": 2}, {\"index\": 3, \"Category\": \"A\", \"Values\": 3}, {\"index\": 4, \"Category\": \"A\", \"Values\": 4}, {\"index\": 5, \"Category\": \"A\", \"Values\": 5}, {\"index\": 1, \"Category\": \"B\", \"Values\": 2}, {\"index\": 2, \"Category\": \"B\", \"Values\": 3}, {\"index\": 3, \"Category\": \"B\", \"Values\": 4}, {\"index\": 4, \"Category\": \"B\", \"Values\": 5}, {\"index\": 5, \"Category\": \"B\", \"Values\": 6}, {\"index\": 1, \"Category\": \"C\", \"Values\": 3}, {\"index\": 2, \"Category\": \"C\", \"Values\": 4}, {\"index\": 3, \"Category\": \"C\", \"Values\": 5}, {\"index\": 4, \"Category\": \"C\", \"Values\": 6}, {\"index\": 5, \"Category\": \"C\", \"Values\": 7}]}}, {\"mode\": \"vega-lite\"});\n",
       "</script>"
      ],
      "text/plain": [
       "alt.Chart(...)"
      ]
     },
     "execution_count": 1,
     "metadata": {},
     "output_type": "execute_result"
    }
   ],
   "source": [
    "import altair as alt\n",
    "import pandas as pd\n",
    "\n",
    "# Create a DataFrame\n",
    "df = pd.DataFrame(\n",
    "    {\"A\": [1, 2, 3, 4, 5], \"B\": [2, 3, 4, 5, 6], \"C\": [3, 4, 5, 6, 7]},\n",
    "    index=[1, 2, 3, 4, 5],\n",
    ")\n",
    "\n",
    "df = df.reset_index().melt(\"index\", var_name=\"Category\", value_name=\"Values\")\n",
    "\n",
    "chart = (\n",
    "    alt.Chart(df)\n",
    "    .mark_area()\n",
    "    .encode(x=\"index:O\", y=alt.Y(\"Values:Q\", stack=\"zero\"), color=\"Category:N\")\n",
    "    .properties(title=\"Stacked Area Chart\", width=400, height=400)\n",
    ")\n",
    "\n",
    "chart.configure_axis(titleX=-15, titleY=-15).configure_title(\n",
    "    anchor=\"start\", fontSize=14, offset=10\n",
    ")"
   ]
  }
 ],
 "metadata": {
  "kernelspec": {
   "display_name": "Python 3 (ipykernel)",
   "language": "python",
   "name": "python3"
  },
  "language_info": {
   "codemirror_mode": {
    "name": "ipython",
    "version": 3
   },
   "file_extension": ".py",
   "mimetype": "text/x-python",
   "name": "python",
   "nbconvert_exporter": "python",
   "pygments_lexer": "ipython3",
   "version": "3.10.6"
  }
 },
 "nbformat": 4,
 "nbformat_minor": 5
}
