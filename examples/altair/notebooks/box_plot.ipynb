{
 "cells": [
  {
   "cell_type": "code",
   "execution_count": 1,
   "id": "f9be6ca1",
   "metadata": {},
   "outputs": [
    {
     "data": {
      "text/html": [
       "\n",
       "<style>\n",
       "  #altair-viz-9ae09ea60af14be4a0c7f05df0c07491.vega-embed {\n",
       "    width: 100%;\n",
       "    display: flex;\n",
       "  }\n",
       "\n",
       "  #altair-viz-9ae09ea60af14be4a0c7f05df0c07491.vega-embed details,\n",
       "  #altair-viz-9ae09ea60af14be4a0c7f05df0c07491.vega-embed details summary {\n",
       "    position: relative;\n",
       "  }\n",
       "</style>\n",
       "<div id=\"altair-viz-9ae09ea60af14be4a0c7f05df0c07491\"></div>\n",
       "<script type=\"text/javascript\">\n",
       "  var VEGA_DEBUG = (typeof VEGA_DEBUG == \"undefined\") ? {} : VEGA_DEBUG;\n",
       "  (function(spec, embedOpt){\n",
       "    let outputDiv = document.currentScript.previousElementSibling;\n",
       "    if (outputDiv.id !== \"altair-viz-9ae09ea60af14be4a0c7f05df0c07491\") {\n",
       "      outputDiv = document.getElementById(\"altair-viz-9ae09ea60af14be4a0c7f05df0c07491\");\n",
       "    }\n",
       "    const paths = {\n",
       "      \"vega\": \"https://cdn.jsdelivr.net/npm/vega@5?noext\",\n",
       "      \"vega-lib\": \"https://cdn.jsdelivr.net/npm/vega-lib?noext\",\n",
       "      \"vega-lite\": \"https://cdn.jsdelivr.net/npm/vega-lite@5.8.0?noext\",\n",
       "      \"vega-embed\": \"https://cdn.jsdelivr.net/npm/vega-embed@6?noext\",\n",
       "    };\n",
       "\n",
       "    function maybeLoadScript(lib, version) {\n",
       "      var key = `${lib.replace(\"-\", \"\")}_version`;\n",
       "      return (VEGA_DEBUG[key] == version) ?\n",
       "        Promise.resolve(paths[lib]) :\n",
       "        new Promise(function(resolve, reject) {\n",
       "          var s = document.createElement('script');\n",
       "          document.getElementsByTagName(\"head\")[0].appendChild(s);\n",
       "          s.async = true;\n",
       "          s.onload = () => {\n",
       "            VEGA_DEBUG[key] = version;\n",
       "            return resolve(paths[lib]);\n",
       "          };\n",
       "          s.onerror = () => reject(`Error loading script: ${paths[lib]}`);\n",
       "          s.src = paths[lib];\n",
       "        });\n",
       "    }\n",
       "\n",
       "    function showError(err) {\n",
       "      outputDiv.innerHTML = `<div class=\"error\" style=\"color:red;\">${err}</div>`;\n",
       "      throw err;\n",
       "    }\n",
       "\n",
       "    function displayChart(vegaEmbed) {\n",
       "      vegaEmbed(outputDiv, spec, embedOpt)\n",
       "        .catch(err => showError(`Javascript Error: ${err.message}<br>This usually means there's a typo in your chart specification. See the javascript console for the full traceback.`));\n",
       "    }\n",
       "\n",
       "    if(typeof define === \"function\" && define.amd) {\n",
       "      requirejs.config({paths});\n",
       "      require([\"vega-embed\"], displayChart, err => showError(`Error loading script: ${err.message}`));\n",
       "    } else {\n",
       "      maybeLoadScript(\"vega\", \"5\")\n",
       "        .then(() => maybeLoadScript(\"vega-lite\", \"5.8.0\"))\n",
       "        .then(() => maybeLoadScript(\"vega-embed\", \"6\"))\n",
       "        .catch(showError)\n",
       "        .then(() => displayChart(vegaEmbed));\n",
       "    }\n",
       "  })({\"config\": {\"view\": {\"continuousWidth\": 300, \"continuousHeight\": 300}}, \"data\": {\"name\": \"data-5812d9d85905d4caeb08fc08deac7c6b\"}, \"mark\": {\"type\": \"boxplot\", \"color\": \"lightblue\"}, \"encoding\": {\"x\": {\"field\": \"group\", \"type\": \"nominal\"}, \"y\": {\"field\": \"x\", \"type\": \"quantitative\"}}, \"title\": \"Box Plot\", \"width\": 400, \"$schema\": \"https://vega.github.io/schema/vega-lite/v5.8.0.json\", \"datasets\": {\"data-5812d9d85905d4caeb08fc08deac7c6b\": [{\"group\": \"x1\", \"x\": -0.46}, {\"group\": \"x1\", \"x\": -1.25}, {\"group\": \"x1\", \"x\": -2.62}, {\"group\": \"x1\", \"x\": 0.22}, {\"group\": \"x2\", \"x\": 0.24}, {\"group\": \"x2\", \"x\": 1.88}, {\"group\": \"x2\", \"x\": -0.49}, {\"group\": \"x2\", \"x\": -0.73}, {\"group\": \"x3\", \"x\": -0.44}, {\"group\": \"x3\", \"x\": 0.93}, {\"group\": \"x3\", \"x\": 0.19}, {\"group\": \"x3\", \"x\": -4.36}]}}, {\"mode\": \"vega-lite\"});\n",
       "</script>"
      ],
      "text/plain": [
       "alt.Chart(...)"
      ]
     },
     "execution_count": 1,
     "metadata": {},
     "output_type": "execute_result"
    }
   ],
   "source": [
    "import altair as alt\n",
    "import pandas as pd\n",
    "\n",
    "# Define the data\n",
    "data = pd.DataFrame(\n",
    "    {\n",
    "        \"x1\": [-0.46, -1.25, -2.62, 0.22],\n",
    "        \"x2\": [0.24, 1.88, -0.49, -0.73],\n",
    "        \"x3\": [-0.44, 0.93, 0.19, -4.36],\n",
    "    }\n",
    ")\n",
    "\n",
    "# Reshape the data\n",
    "data = data.melt(var_name=\"group\", value_name=\"x\")\n",
    "\n",
    "# Create the chart\n",
    "alt.Chart(data).mark_boxplot(color=\"lightblue\").encode(x=\"group\", y=\"x\").properties(\n",
    "    title=\"Box Plot\", width=400  # Adjust the width here as per your preference\n",
    ")"
   ]
  }
 ],
 "metadata": {
  "kernelspec": {
   "display_name": "Python 3 (ipykernel)",
   "language": "python",
   "name": "python3"
  },
  "language_info": {
   "codemirror_mode": {
    "name": "ipython",
    "version": 3
   },
   "file_extension": ".py",
   "mimetype": "text/x-python",
   "name": "python",
   "nbconvert_exporter": "python",
   "pygments_lexer": "ipython3",
   "version": "3.10.6"
  }
 },
 "nbformat": 4,
 "nbformat_minor": 5
}
